{
  "nbformat": 4,
  "nbformat_minor": 0,
  "metadata": {
    "colab": {
      "provenance": [],
      "authorship_tag": "ABX9TyMNcXO8556w/6Owk5c4CTAN",
      "include_colab_link": true
    },
    "kernelspec": {
      "name": "python3",
      "display_name": "Python 3"
    },
    "language_info": {
      "name": "python"
    }
  },
  "cells": [
    {
      "cell_type": "markdown",
      "metadata": {
        "id": "view-in-github",
        "colab_type": "text"
      },
      "source": [
        "<a href=\"https://colab.research.google.com/github/widyacitraningrum-max/KKA-X-semester-1/blob/main/1_fungsi_print_wahyu_widya_citra_ningrum_X_8.ipynb\" target=\"_parent\"><img src=\"https://colab.research.google.com/assets/colab-badge.svg\" alt=\"Open In Colab\"/></a>"
      ]
    },
    {
      "cell_type": "code",
      "execution_count": null,
      "metadata": {
        "colab": {
          "base_uri": "https://localhost:8080/"
        },
        "id": "x0GTJLwrg6Je",
        "outputId": "c0fc5cf0-ee7a-4b65-8f55-13a56fb1ad6c"
      },
      "outputs": [
        {
          "output_type": "stream",
          "name": "stdout",
          "text": [
            "bmi= 19.1 kg/m^2\n"
          ]
        }
      ],
      "source": [
        "print(\"bmi= 19.1 kg/m^2\")"
      ]
    },
    {
      "cell_type": "code",
      "source": [
        "nama=\"wahyu widya citra ningrum\"\n",
        "BB=45\n",
        "TB=150"
      ],
      "metadata": {
        "id": "N2-mUe5qkr4j"
      },
      "execution_count": null,
      "outputs": []
    },
    {
      "cell_type": "code",
      "source": [
        "print(\"healthy weight\")"
      ],
      "metadata": {
        "id": "LV42QNUtkwfo",
        "colab": {
          "base_uri": "https://localhost:8080/"
        },
        "outputId": "4fbde927-e75f-4c82-ef18-55b6aedecbde"
      },
      "execution_count": null,
      "outputs": [
        {
          "output_type": "stream",
          "name": "stdout",
          "text": [
            "healthy weight\n"
          ]
        }
      ]
    },
    {
      "cell_type": "code",
      "source": [
        "print(\"Nama: wahyu widya citra ningrum\\nKelas: X.8\\nNo. Absen: 36\")"
      ],
      "metadata": {
        "colab": {
          "base_uri": "https://localhost:8080/"
        },
        "id": "pzKzJ4MlhJcm",
        "outputId": "cbcaba28-7ef2-4c45-d6f9-56ce2a428f4b"
      },
      "execution_count": null,
      "outputs": [
        {
          "output_type": "stream",
          "name": "stdout",
          "text": [
            "Nama: wahyu widya citra ningrum\n",
            "Kelas: X.8\n",
            "No. Absen: 36\n"
          ]
        }
      ]
    },
    {
      "cell_type": "code",
      "source": [
        "print(\"\"\"Nama\\t\\t: Wahyu Widya Citra Ningrum\n",
        "Kelas\\t\\t: X.8\n",
        "No. Absen\\t:36\"\"\")"
      ],
      "metadata": {
        "colab": {
          "base_uri": "https://localhost:8080/"
        },
        "id": "C9hSr1AtlhEw",
        "outputId": "a007affd-5936-413a-fad3-efa7e719d13d"
      },
      "execution_count": null,
      "outputs": [
        {
          "output_type": "stream",
          "name": "stdout",
          "text": [
            "Nama\t\t: Wahyu Widya Citra Ningrum\n",
            "Kelas\t\t: X.8\n",
            "No. Absen\t:36\n"
          ]
        }
      ]
    },
    {
      "cell_type": "code",
      "source": [
        "print(\"Nama: Wahyu Widya Cit'ra Ningrum\\nkelas: X.8\\nNo. Absen:36\")"
      ],
      "metadata": {
        "colab": {
          "base_uri": "https://localhost:8080/"
        },
        "id": "AlUHYUiymMlI",
        "outputId": "0fe18c9d-f902-4c50-c31f-22e8aff218c9"
      },
      "execution_count": null,
      "outputs": [
        {
          "output_type": "stream",
          "name": "stdout",
          "text": [
            "Nama: Wahyu Widya Cit'ra Ningrum\n",
            "kelas: X.8\n",
            "No. Absen:36\n"
          ]
        }
      ]
    },
    {
      "cell_type": "code",
      "source": [
        "print('Nama: Wahyu Widya Cit\\'ra Ningrum\\nkelas: X.8\\nNo. Absen:36')"
      ],
      "metadata": {
        "colab": {
          "base_uri": "https://localhost:8080/"
        },
        "id": "6J1x76udmx_a",
        "outputId": "bba92c97-ac17-44a8-8997-fcb4f3b037de"
      },
      "execution_count": null,
      "outputs": [
        {
          "output_type": "stream",
          "name": "stdout",
          "text": [
            "Nama: Wahyu Widya Cit'ra Ningrum\n",
            "kelas: X.8\n",
            "No. Absen:36\n"
          ]
        }
      ]
    },
    {
      "cell_type": "code",
      "source": [
        "print(\"Lokasi file Tugas KKA: Local Disk C:\\\\KKA\\\\Tugas Ningrum\")"
      ],
      "metadata": {
        "colab": {
          "base_uri": "https://localhost:8080/"
        },
        "id": "O6jvvnVqnU5U",
        "outputId": "103810d0-1205-4313-f052-8210813dd3cc"
      },
      "execution_count": null,
      "outputs": [
        {
          "output_type": "stream",
          "name": "stdout",
          "text": [
            "Lokasi file Tugas KKA: Local Disk C:\\KKA\\Tugas Ningrum\n"
          ]
        }
      ]
    },
    {
      "cell_type": "code",
      "source": [
        "Tahun = 2025\n",
        "Bulan = \"Agustus\"\n",
        "Tanggal = 23\n",
        "\n",
        "print(Tahun, Bulan, Tanggal, sep=\"-\")"
      ],
      "metadata": {
        "colab": {
          "base_uri": "https://localhost:8080/"
        },
        "id": "-2MkvoKyrTuI",
        "outputId": "7ab86943-52dd-4689-f144-da7a6ad1d1d1"
      },
      "execution_count": null,
      "outputs": [
        {
          "output_type": "stream",
          "name": "stdout",
          "text": [
            "2025-Agustus-23\n"
          ]
        }
      ]
    },
    {
      "cell_type": "code",
      "source": [
        "nama_depan = \"Citra\"\n",
        "nama_belakang = \"Ningrum\"\n",
        "\n",
        "print(nama_depan, end=\" \")\n",
        "print(nama_belakang)"
      ],
      "metadata": {
        "colab": {
          "base_uri": "https://localhost:8080/"
        },
        "id": "kP_Xo98us9ks",
        "outputId": "cc6d237a-3b8e-4189-c5f3-60a44044023a"
      },
      "execution_count": null,
      "outputs": [
        {
          "output_type": "stream",
          "name": "stdout",
          "text": [
            "Citra Ningrum\n"
          ]
        }
      ]
    },
    {
      "cell_type": "code",
      "source": [
        "nama_siswa_1=\"Lisaan\"\n",
        "nama_siswa_2=\"Aurin\"\n",
        "nama_siswa_3=\"Lisaan\"\n",
        "nama_siswa_4=\"Dinda\"\n",
        "\n",
        "print(nama_siswa_1,nama_siswa_2, nama_siswa_3, nama_siswa_4, sep='*')"
      ],
      "metadata": {
        "colab": {
          "base_uri": "https://localhost:8080/"
        },
        "id": "6gVek9c-kHRc",
        "outputId": "5004a88a-af66-483a-d4a8-93ee01c1cb3f"
      },
      "execution_count": null,
      "outputs": [
        {
          "output_type": "stream",
          "name": "stdout",
          "text": [
            "Lisaan*Aurin*Lisaan*Dinda\n"
          ]
        }
      ]
    },
    {
      "cell_type": "code",
      "source": [
        "nama_siswa_4 = \"Azkal\"\n",
        "nama_siswa_5=  \"Hasim\"\n",
        "nama_siswa_6 = \"Chilmi\"\n",
        "nama_siswa_7 = \"Nova\"\n",
        "\n",
        "print(nama_siswa_6, end=\"~\")\n",
        "print(nama_siswa_4, end=\"-\")\n",
        "print(nama_siswa_5, end=\"~\")\n",
        "print(nama_siswa_7,)"
      ],
      "metadata": {
        "colab": {
          "base_uri": "https://localhost:8080/"
        },
        "id": "Mw4gY71Doase",
        "outputId": "8dbc745a-aed4-4f13-8ba0-7238260ef565"
      },
      "execution_count": null,
      "outputs": [
        {
          "output_type": "stream",
          "name": "stdout",
          "text": [
            "Chilmi~Azkal-Hasim~Nova\n"
          ]
        }
      ]
    }
  ]
}